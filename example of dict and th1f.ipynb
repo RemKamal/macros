{
 "cells": [
  {
   "cell_type": "code",
   "execution_count": 12,
   "metadata": {
    "collapsed": false
   },
   "outputs": [
    {
     "name": "stdout",
     "output_type": "stream",
     "text": [
      "count here is  0\n",
      "<class 'str'> here represents TH1F of the real ROOT macro, here the name is\" assume_ThisIsHist_AndNot_JustString \"\n",
      "\"histogram\" goes under the name/key \" met \"\n",
      "\n",
      "count here is  1\n",
      "<class 'str'> here represents TH1F of the real ROOT macro, here the name is\" finalHist_AndNot_JustString \"\n",
      "\"histogram\" goes under the name/key \" mass \"\n",
      "\n",
      "count here is  2\n",
      "<class 'str'> here represents TH1F of the real ROOT macro, here the name is\" another_Hist_AndNot_JustString \"\n",
      "\"histogram\" goes under the name/key \" eta \"\n",
      "\n",
      "count here is  3\n",
      "<class 'str'> here represents TH1F of the real ROOT macro, here the name is\" one_moreHist_AndNot_JustString \"\n",
      "\"histogram\" goes under the name/key \" pt \"\n",
      "\n"
     ]
    }
   ],
   "source": [
    "mc = {} #create empty dictionary\n",
    "mc['met'] = 'assume_ThisIsHist_AndNot_JustString'  # add several 'histograms'\n",
    "mc['eta'] = 'another_Hist_AndNot_JustString'\n",
    "mc['pt'] = 'one_moreHist_AndNot_JustString'\n",
    "mc['mass'] = 'finalHist_AndNot_JustString'\n",
    "\n",
    "for count, h in enumerate (mc, start =0): #0 is default anyways\n",
    "    print ('count here is ', count)\n",
    "    print (type(h), 'here represents TH1F of the real ROOT macro, here the name is\"', mc[h],'\"')\n",
    "    print ('\"histogram\" goes under the name/key \"', h, '\"\\n')"
   ]
  },
  {
   "cell_type": "code",
   "execution_count": null,
   "metadata": {
    "collapsed": true
   },
   "outputs": [],
   "source": []
  }
 ],
 "metadata": {
  "kernelspec": {
   "display_name": "Python 3",
   "language": "python",
   "name": "python3"
  },
  "language_info": {
   "codemirror_mode": {
    "name": "ipython",
    "version": 3
   },
   "file_extension": ".py",
   "mimetype": "text/x-python",
   "name": "python",
   "nbconvert_exporter": "python",
   "pygments_lexer": "ipython3",
   "version": "3.5.2"
  }
 },
 "nbformat": 4,
 "nbformat_minor": 0
}
